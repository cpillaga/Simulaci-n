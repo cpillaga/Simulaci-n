{
 "cells": [
  {
   "cell_type": "markdown",
   "metadata": {},
   "source": [
    "<center><h1>Prueba Práctica 1</h1></center>"
   ]
  },
  {
   "cell_type": "markdown",
   "metadata": {},
   "source": [
    "<h3>Nombre: Christian Pillaga S</h3>\n",
    "<h3>País: El Salvador</h3>"
   ]
  },
  {
   "cell_type": "markdown",
   "metadata": {},
   "source": [
    "Para esto encontré un dataset de datos actualizados del país seleccionado en el siguiente link\n",
    "<br />\n",
    "<center><a href=\"https://covid.ourworldindata.org/data/owid-covid-data.csv\" style=\"font-weight: bold\" >https://covid.ourworldindata.org/data/owid-covid-data.csv</a></center>"
   ]
  },
  {
   "cell_type": "markdown",
   "metadata": {},
   "source": [
    "1. Primero importamos las librerias necesarias"
   ]
  },
  {
   "cell_type": "code",
   "execution_count": 1,
   "metadata": {},
   "outputs": [],
   "source": [
    "import pandas as pd\n",
    "import numpy as np\n",
    "from datetime import datetime,timedelta\n",
    "from sklearn.metrics import mean_squared_error\n",
    "from scipy.optimize import curve_fit\n",
    "from scipy.optimize import fsolve\n",
    "from sklearn import linear_model\n",
    "import matplotlib.pyplot as plt\n",
    "\n",
    "%matplotlib inline\n"
   ]
  },
  {
   "cell_type": "markdown",
   "metadata": {},
   "source": [
    "2. Leemos los datos"
   ]
  },
  {
   "cell_type": "code",
   "execution_count": 2,
   "metadata": {
    "scrolled": true
   },
   "outputs": [
    {
     "data": {
      "text/html": [
       "<div>\n",
       "<style scoped>\n",
       "    .dataframe tbody tr th:only-of-type {\n",
       "        vertical-align: middle;\n",
       "    }\n",
       "\n",
       "    .dataframe tbody tr th {\n",
       "        vertical-align: top;\n",
       "    }\n",
       "\n",
       "    .dataframe thead th {\n",
       "        text-align: right;\n",
       "    }\n",
       "</style>\n",
       "<table border=\"1\" class=\"dataframe\">\n",
       "  <thead>\n",
       "    <tr style=\"text-align: right;\">\n",
       "      <th></th>\n",
       "      <th>iso_code</th>\n",
       "      <th>continent</th>\n",
       "      <th>location</th>\n",
       "      <th>date</th>\n",
       "      <th>total_cases</th>\n",
       "      <th>new_cases</th>\n",
       "      <th>new_cases_smoothed</th>\n",
       "      <th>total_deaths</th>\n",
       "      <th>new_deaths</th>\n",
       "      <th>new_deaths_smoothed</th>\n",
       "      <th>...</th>\n",
       "      <th>gdp_per_capita</th>\n",
       "      <th>extreme_poverty</th>\n",
       "      <th>cardiovasc_death_rate</th>\n",
       "      <th>diabetes_prevalence</th>\n",
       "      <th>female_smokers</th>\n",
       "      <th>male_smokers</th>\n",
       "      <th>handwashing_facilities</th>\n",
       "      <th>hospital_beds_per_thousand</th>\n",
       "      <th>life_expectancy</th>\n",
       "      <th>human_development_index</th>\n",
       "    </tr>\n",
       "  </thead>\n",
       "  <tbody>\n",
       "    <tr>\n",
       "      <td>16366</td>\n",
       "      <td>SLV</td>\n",
       "      <td>North America</td>\n",
       "      <td>El Salvador</td>\n",
       "      <td>2020-03-19</td>\n",
       "      <td>1.0</td>\n",
       "      <td>1.0</td>\n",
       "      <td>NaN</td>\n",
       "      <td>NaN</td>\n",
       "      <td>0.0</td>\n",
       "      <td>NaN</td>\n",
       "      <td>...</td>\n",
       "      <td>7292.458</td>\n",
       "      <td>2.2</td>\n",
       "      <td>167.295</td>\n",
       "      <td>8.87</td>\n",
       "      <td>2.5</td>\n",
       "      <td>18.8</td>\n",
       "      <td>90.65</td>\n",
       "      <td>1.3</td>\n",
       "      <td>73.32</td>\n",
       "      <td>0.674</td>\n",
       "    </tr>\n",
       "    <tr>\n",
       "      <td>16367</td>\n",
       "      <td>SLV</td>\n",
       "      <td>North America</td>\n",
       "      <td>El Salvador</td>\n",
       "      <td>2020-03-20</td>\n",
       "      <td>1.0</td>\n",
       "      <td>0.0</td>\n",
       "      <td>NaN</td>\n",
       "      <td>NaN</td>\n",
       "      <td>0.0</td>\n",
       "      <td>NaN</td>\n",
       "      <td>...</td>\n",
       "      <td>7292.458</td>\n",
       "      <td>2.2</td>\n",
       "      <td>167.295</td>\n",
       "      <td>8.87</td>\n",
       "      <td>2.5</td>\n",
       "      <td>18.8</td>\n",
       "      <td>90.65</td>\n",
       "      <td>1.3</td>\n",
       "      <td>73.32</td>\n",
       "      <td>0.674</td>\n",
       "    </tr>\n",
       "    <tr>\n",
       "      <td>16368</td>\n",
       "      <td>SLV</td>\n",
       "      <td>North America</td>\n",
       "      <td>El Salvador</td>\n",
       "      <td>2020-03-21</td>\n",
       "      <td>3.0</td>\n",
       "      <td>2.0</td>\n",
       "      <td>NaN</td>\n",
       "      <td>NaN</td>\n",
       "      <td>0.0</td>\n",
       "      <td>NaN</td>\n",
       "      <td>...</td>\n",
       "      <td>7292.458</td>\n",
       "      <td>2.2</td>\n",
       "      <td>167.295</td>\n",
       "      <td>8.87</td>\n",
       "      <td>2.5</td>\n",
       "      <td>18.8</td>\n",
       "      <td>90.65</td>\n",
       "      <td>1.3</td>\n",
       "      <td>73.32</td>\n",
       "      <td>0.674</td>\n",
       "    </tr>\n",
       "    <tr>\n",
       "      <td>16369</td>\n",
       "      <td>SLV</td>\n",
       "      <td>North America</td>\n",
       "      <td>El Salvador</td>\n",
       "      <td>2020-03-22</td>\n",
       "      <td>3.0</td>\n",
       "      <td>0.0</td>\n",
       "      <td>NaN</td>\n",
       "      <td>NaN</td>\n",
       "      <td>0.0</td>\n",
       "      <td>NaN</td>\n",
       "      <td>...</td>\n",
       "      <td>7292.458</td>\n",
       "      <td>2.2</td>\n",
       "      <td>167.295</td>\n",
       "      <td>8.87</td>\n",
       "      <td>2.5</td>\n",
       "      <td>18.8</td>\n",
       "      <td>90.65</td>\n",
       "      <td>1.3</td>\n",
       "      <td>73.32</td>\n",
       "      <td>0.674</td>\n",
       "    </tr>\n",
       "    <tr>\n",
       "      <td>16370</td>\n",
       "      <td>SLV</td>\n",
       "      <td>North America</td>\n",
       "      <td>El Salvador</td>\n",
       "      <td>2020-03-23</td>\n",
       "      <td>3.0</td>\n",
       "      <td>0.0</td>\n",
       "      <td>NaN</td>\n",
       "      <td>NaN</td>\n",
       "      <td>0.0</td>\n",
       "      <td>NaN</td>\n",
       "      <td>...</td>\n",
       "      <td>7292.458</td>\n",
       "      <td>2.2</td>\n",
       "      <td>167.295</td>\n",
       "      <td>8.87</td>\n",
       "      <td>2.5</td>\n",
       "      <td>18.8</td>\n",
       "      <td>90.65</td>\n",
       "      <td>1.3</td>\n",
       "      <td>73.32</td>\n",
       "      <td>0.674</td>\n",
       "    </tr>\n",
       "    <tr>\n",
       "      <td>...</td>\n",
       "      <td>...</td>\n",
       "      <td>...</td>\n",
       "      <td>...</td>\n",
       "      <td>...</td>\n",
       "      <td>...</td>\n",
       "      <td>...</td>\n",
       "      <td>...</td>\n",
       "      <td>...</td>\n",
       "      <td>...</td>\n",
       "      <td>...</td>\n",
       "      <td>...</td>\n",
       "      <td>...</td>\n",
       "      <td>...</td>\n",
       "      <td>...</td>\n",
       "      <td>...</td>\n",
       "      <td>...</td>\n",
       "      <td>...</td>\n",
       "      <td>...</td>\n",
       "      <td>...</td>\n",
       "      <td>...</td>\n",
       "      <td>...</td>\n",
       "    </tr>\n",
       "    <tr>\n",
       "      <td>16612</td>\n",
       "      <td>SLV</td>\n",
       "      <td>North America</td>\n",
       "      <td>El Salvador</td>\n",
       "      <td>2020-11-20</td>\n",
       "      <td>37109.0</td>\n",
       "      <td>144.0</td>\n",
       "      <td>154.143</td>\n",
       "      <td>1064.0</td>\n",
       "      <td>3.0</td>\n",
       "      <td>4.429</td>\n",
       "      <td>...</td>\n",
       "      <td>7292.458</td>\n",
       "      <td>2.2</td>\n",
       "      <td>167.295</td>\n",
       "      <td>8.87</td>\n",
       "      <td>2.5</td>\n",
       "      <td>18.8</td>\n",
       "      <td>90.65</td>\n",
       "      <td>1.3</td>\n",
       "      <td>73.32</td>\n",
       "      <td>0.674</td>\n",
       "    </tr>\n",
       "    <tr>\n",
       "      <td>16613</td>\n",
       "      <td>SLV</td>\n",
       "      <td>North America</td>\n",
       "      <td>El Salvador</td>\n",
       "      <td>2020-11-21</td>\n",
       "      <td>37250.0</td>\n",
       "      <td>141.0</td>\n",
       "      <td>150.714</td>\n",
       "      <td>1070.0</td>\n",
       "      <td>6.0</td>\n",
       "      <td>4.429</td>\n",
       "      <td>...</td>\n",
       "      <td>7292.458</td>\n",
       "      <td>2.2</td>\n",
       "      <td>167.295</td>\n",
       "      <td>8.87</td>\n",
       "      <td>2.5</td>\n",
       "      <td>18.8</td>\n",
       "      <td>90.65</td>\n",
       "      <td>1.3</td>\n",
       "      <td>73.32</td>\n",
       "      <td>0.674</td>\n",
       "    </tr>\n",
       "    <tr>\n",
       "      <td>16614</td>\n",
       "      <td>SLV</td>\n",
       "      <td>North America</td>\n",
       "      <td>El Salvador</td>\n",
       "      <td>2020-11-22</td>\n",
       "      <td>37250.0</td>\n",
       "      <td>0.0</td>\n",
       "      <td>127.429</td>\n",
       "      <td>1075.0</td>\n",
       "      <td>5.0</td>\n",
       "      <td>4.429</td>\n",
       "      <td>...</td>\n",
       "      <td>7292.458</td>\n",
       "      <td>2.2</td>\n",
       "      <td>167.295</td>\n",
       "      <td>8.87</td>\n",
       "      <td>2.5</td>\n",
       "      <td>18.8</td>\n",
       "      <td>90.65</td>\n",
       "      <td>1.3</td>\n",
       "      <td>73.32</td>\n",
       "      <td>0.674</td>\n",
       "    </tr>\n",
       "    <tr>\n",
       "      <td>16615</td>\n",
       "      <td>SLV</td>\n",
       "      <td>North America</td>\n",
       "      <td>El Salvador</td>\n",
       "      <td>2020-11-23</td>\n",
       "      <td>37562.0</td>\n",
       "      <td>312.0</td>\n",
       "      <td>172.000</td>\n",
       "      <td>1081.0</td>\n",
       "      <td>6.0</td>\n",
       "      <td>4.857</td>\n",
       "      <td>...</td>\n",
       "      <td>7292.458</td>\n",
       "      <td>2.2</td>\n",
       "      <td>167.295</td>\n",
       "      <td>8.87</td>\n",
       "      <td>2.5</td>\n",
       "      <td>18.8</td>\n",
       "      <td>90.65</td>\n",
       "      <td>1.3</td>\n",
       "      <td>73.32</td>\n",
       "      <td>0.674</td>\n",
       "    </tr>\n",
       "    <tr>\n",
       "      <td>16616</td>\n",
       "      <td>SLV</td>\n",
       "      <td>North America</td>\n",
       "      <td>El Salvador</td>\n",
       "      <td>2020-11-24</td>\n",
       "      <td>37884.0</td>\n",
       "      <td>322.0</td>\n",
       "      <td>173.571</td>\n",
       "      <td>1086.0</td>\n",
       "      <td>5.0</td>\n",
       "      <td>4.857</td>\n",
       "      <td>...</td>\n",
       "      <td>7292.458</td>\n",
       "      <td>2.2</td>\n",
       "      <td>167.295</td>\n",
       "      <td>8.87</td>\n",
       "      <td>2.5</td>\n",
       "      <td>18.8</td>\n",
       "      <td>90.65</td>\n",
       "      <td>1.3</td>\n",
       "      <td>73.32</td>\n",
       "      <td>0.674</td>\n",
       "    </tr>\n",
       "  </tbody>\n",
       "</table>\n",
       "<p>251 rows × 50 columns</p>\n",
       "</div>"
      ],
      "text/plain": [
       "      iso_code      continent     location        date  total_cases  \\\n",
       "16366      SLV  North America  El Salvador  2020-03-19          1.0   \n",
       "16367      SLV  North America  El Salvador  2020-03-20          1.0   \n",
       "16368      SLV  North America  El Salvador  2020-03-21          3.0   \n",
       "16369      SLV  North America  El Salvador  2020-03-22          3.0   \n",
       "16370      SLV  North America  El Salvador  2020-03-23          3.0   \n",
       "...        ...            ...          ...         ...          ...   \n",
       "16612      SLV  North America  El Salvador  2020-11-20      37109.0   \n",
       "16613      SLV  North America  El Salvador  2020-11-21      37250.0   \n",
       "16614      SLV  North America  El Salvador  2020-11-22      37250.0   \n",
       "16615      SLV  North America  El Salvador  2020-11-23      37562.0   \n",
       "16616      SLV  North America  El Salvador  2020-11-24      37884.0   \n",
       "\n",
       "       new_cases  new_cases_smoothed  total_deaths  new_deaths  \\\n",
       "16366        1.0                 NaN           NaN         0.0   \n",
       "16367        0.0                 NaN           NaN         0.0   \n",
       "16368        2.0                 NaN           NaN         0.0   \n",
       "16369        0.0                 NaN           NaN         0.0   \n",
       "16370        0.0                 NaN           NaN         0.0   \n",
       "...          ...                 ...           ...         ...   \n",
       "16612      144.0             154.143        1064.0         3.0   \n",
       "16613      141.0             150.714        1070.0         6.0   \n",
       "16614        0.0             127.429        1075.0         5.0   \n",
       "16615      312.0             172.000        1081.0         6.0   \n",
       "16616      322.0             173.571        1086.0         5.0   \n",
       "\n",
       "       new_deaths_smoothed  ...  gdp_per_capita  extreme_poverty  \\\n",
       "16366                  NaN  ...        7292.458              2.2   \n",
       "16367                  NaN  ...        7292.458              2.2   \n",
       "16368                  NaN  ...        7292.458              2.2   \n",
       "16369                  NaN  ...        7292.458              2.2   \n",
       "16370                  NaN  ...        7292.458              2.2   \n",
       "...                    ...  ...             ...              ...   \n",
       "16612                4.429  ...        7292.458              2.2   \n",
       "16613                4.429  ...        7292.458              2.2   \n",
       "16614                4.429  ...        7292.458              2.2   \n",
       "16615                4.857  ...        7292.458              2.2   \n",
       "16616                4.857  ...        7292.458              2.2   \n",
       "\n",
       "       cardiovasc_death_rate  diabetes_prevalence  female_smokers  \\\n",
       "16366                167.295                 8.87             2.5   \n",
       "16367                167.295                 8.87             2.5   \n",
       "16368                167.295                 8.87             2.5   \n",
       "16369                167.295                 8.87             2.5   \n",
       "16370                167.295                 8.87             2.5   \n",
       "...                      ...                  ...             ...   \n",
       "16612                167.295                 8.87             2.5   \n",
       "16613                167.295                 8.87             2.5   \n",
       "16614                167.295                 8.87             2.5   \n",
       "16615                167.295                 8.87             2.5   \n",
       "16616                167.295                 8.87             2.5   \n",
       "\n",
       "       male_smokers  handwashing_facilities  hospital_beds_per_thousand  \\\n",
       "16366          18.8                   90.65                         1.3   \n",
       "16367          18.8                   90.65                         1.3   \n",
       "16368          18.8                   90.65                         1.3   \n",
       "16369          18.8                   90.65                         1.3   \n",
       "16370          18.8                   90.65                         1.3   \n",
       "...             ...                     ...                         ...   \n",
       "16612          18.8                   90.65                         1.3   \n",
       "16613          18.8                   90.65                         1.3   \n",
       "16614          18.8                   90.65                         1.3   \n",
       "16615          18.8                   90.65                         1.3   \n",
       "16616          18.8                   90.65                         1.3   \n",
       "\n",
       "       life_expectancy  human_development_index  \n",
       "16366            73.32                    0.674  \n",
       "16367            73.32                    0.674  \n",
       "16368            73.32                    0.674  \n",
       "16369            73.32                    0.674  \n",
       "16370            73.32                    0.674  \n",
       "...                ...                      ...  \n",
       "16612            73.32                    0.674  \n",
       "16613            73.32                    0.674  \n",
       "16614            73.32                    0.674  \n",
       "16615            73.32                    0.674  \n",
       "16616            73.32                    0.674  \n",
       "\n",
       "[251 rows x 50 columns]"
      ]
     },
     "execution_count": 2,
     "metadata": {},
     "output_type": "execute_result"
    }
   ],
   "source": [
    "url = 'https://covid.ourworldindata.org/data/owid-covid-data.csv'\n",
    "\n",
    "df = pd.read_csv(url)\n",
    "df = df[df['location'].isin(['El Salvador'])]\n",
    "df"
   ]
  },
  {
   "cell_type": "code",
   "execution_count": 3,
   "metadata": {},
   "outputs": [
    {
     "data": {
      "text/html": [
       "<div>\n",
       "<style scoped>\n",
       "    .dataframe tbody tr th:only-of-type {\n",
       "        vertical-align: middle;\n",
       "    }\n",
       "\n",
       "    .dataframe tbody tr th {\n",
       "        vertical-align: top;\n",
       "    }\n",
       "\n",
       "    .dataframe thead th {\n",
       "        text-align: right;\n",
       "    }\n",
       "</style>\n",
       "<table border=\"1\" class=\"dataframe\">\n",
       "  <thead>\n",
       "    <tr style=\"text-align: right;\">\n",
       "      <th></th>\n",
       "      <th>date</th>\n",
       "      <th>total_cases</th>\n",
       "    </tr>\n",
       "  </thead>\n",
       "  <tbody>\n",
       "    <tr>\n",
       "      <td>16366</td>\n",
       "      <td>78</td>\n",
       "      <td>1.0</td>\n",
       "    </tr>\n",
       "    <tr>\n",
       "      <td>16367</td>\n",
       "      <td>79</td>\n",
       "      <td>1.0</td>\n",
       "    </tr>\n",
       "    <tr>\n",
       "      <td>16368</td>\n",
       "      <td>80</td>\n",
       "      <td>3.0</td>\n",
       "    </tr>\n",
       "    <tr>\n",
       "      <td>16369</td>\n",
       "      <td>81</td>\n",
       "      <td>3.0</td>\n",
       "    </tr>\n",
       "    <tr>\n",
       "      <td>16370</td>\n",
       "      <td>82</td>\n",
       "      <td>3.0</td>\n",
       "    </tr>\n",
       "    <tr>\n",
       "      <td>...</td>\n",
       "      <td>...</td>\n",
       "      <td>...</td>\n",
       "    </tr>\n",
       "    <tr>\n",
       "      <td>16612</td>\n",
       "      <td>324</td>\n",
       "      <td>37109.0</td>\n",
       "    </tr>\n",
       "    <tr>\n",
       "      <td>16613</td>\n",
       "      <td>325</td>\n",
       "      <td>37250.0</td>\n",
       "    </tr>\n",
       "    <tr>\n",
       "      <td>16614</td>\n",
       "      <td>326</td>\n",
       "      <td>37250.0</td>\n",
       "    </tr>\n",
       "    <tr>\n",
       "      <td>16615</td>\n",
       "      <td>327</td>\n",
       "      <td>37562.0</td>\n",
       "    </tr>\n",
       "    <tr>\n",
       "      <td>16616</td>\n",
       "      <td>328</td>\n",
       "      <td>37884.0</td>\n",
       "    </tr>\n",
       "  </tbody>\n",
       "</table>\n",
       "<p>251 rows × 2 columns</p>\n",
       "</div>"
      ],
      "text/plain": [
       "       date  total_cases\n",
       "16366    78          1.0\n",
       "16367    79          1.0\n",
       "16368    80          3.0\n",
       "16369    81          3.0\n",
       "16370    82          3.0\n",
       "...     ...          ...\n",
       "16612   324      37109.0\n",
       "16613   325      37250.0\n",
       "16614   326      37250.0\n",
       "16615   327      37562.0\n",
       "16616   328      37884.0\n",
       "\n",
       "[251 rows x 2 columns]"
      ]
     },
     "execution_count": 3,
     "metadata": {},
     "output_type": "execute_result"
    }
   ],
   "source": [
    "df = df.loc[:,['date','total_cases']] \n",
    "FMT = '%Y-%m-%d'\n",
    "date = df['date']\n",
    "df['date'] = date.map(lambda x : (datetime.strptime(x, FMT) - datetime.strptime(\"2020-01-01\", FMT)).days)\n",
    "df"
   ]
  },
  {
   "cell_type": "code",
   "execution_count": 4,
   "metadata": {},
   "outputs": [
    {
     "data": {
      "text/plain": [
       "<matplotlib.axes._subplots.AxesSubplot at 0x12bef037788>"
      ]
     },
     "execution_count": 4,
     "metadata": {},
     "output_type": "execute_result"
    },
    {
     "data": {
      "image/png": "[encoded data removed]",
      "text/plain": [
       "<Figure size 432x288 with 1 Axes>"
      ]
     },
     "metadata": {
      "needs_background": "light"
     },
     "output_type": "display_data"
    }
   ],
   "source": [
    "df.plot(x ='date', y='total_cases')"
   ]
  },
  {
   "cell_type": "markdown",
   "metadata": {},
   "source": [
    "▪\tGenerar un modelo matematico de predicción para regresion lineal, exponencial, polinomico y logaritmico, de los nuevos contactos en la proxima semana (7 dias despues)."
   ]
  },
  {
   "cell_type": "code",
   "execution_count": 5,
   "metadata": {},
   "outputs": [],
   "source": [
    "x = list(df.iloc [:, 0]) # Fecha\n",
    "y = list(df.iloc [:, 1]) # Numero de casos"
   ]
  },
  {
   "cell_type": "markdown",
   "metadata": {},
   "source": [
    "### Modelo Lineal"
   ]
  },
  {
   "cell_type": "code",
   "execution_count": 6,
   "metadata": {},
   "outputs": [
    {
     "name": "stdout",
     "output_type": "stream",
     "text": [
      "Coefficients: \n",
      " [178.96072093]\n",
      "Independent term: \n",
      " -21102.169774236387\n",
      "Despues de 7 días tendremos:  38849  casos\n"
     ]
    }
   ],
   "source": [
    "\n",
    "regr = linear_model.LinearRegression()\n",
    " \n",
    "regr.fit(np.array(x).reshape(-1, 1) ,y)\n",
    "\n",
    "print('Coefficients: \\n', regr.coef_)\n",
    "# Este es el valor donde corta el eje Y (en X=0)\n",
    "print('Independent term: \\n', regr.intercept_)\n",
    "\n",
    "y_prediccion = regr.predict([[335]])\n",
    "print('Despues de 7 días tendremos: ', int(y_prediccion), ' casos')"
   ]
  },
  {
   "cell_type": "code",
   "execution_count": 7,
   "metadata": {},
   "outputs": [
    {
     "name": "stdout",
     "output_type": "stream",
     "text": [
      "[1.0, 1.0, 3.0, 3.0, 3.0, 5.0, 9.0, 13.0, 13.0, 13.0, 19.0, 30.0, 32.0, 32.0, 41.0, 46.0, 56.0, 62.0, 69.0, 78.0, 78.0, 103.0, 117.0, 118.0, 118.0, 125.0, 149.0, 159.0, 159.0, 164.0, 177.0, 190.0, 201.0, 218.0, 225.0, 237.0, 250.0, 261.0, 298.0, 298.0, 323.0, 345.0, 377.0, 424.0, 446.0, 446.0, 555.0, 587.0, 587.0, 695.0, 695.0, 784.0, 889.0, 958.0, 998.0, 1037.0, 1112.0, 1210.0, 1265.0, 1265.0, 1338.0, 1413.0, 1498.0, 1571.0, 1640.0, 1725.0, 1819.0, 1915.0, 1983.0, 2042.0, 2109.0, 2194.0, 2278.0, 2517.0, 2517.0, 2582.0, 2653.0, 2705.0, 2781.0, 2849.0, 2934.0, 3015.0, 3104.0, 3191.0, 3274.0, 3481.0, 3481.0, 3603.0, 3720.0, 3826.0, 3941.0, 4066.0, 4200.0, 4329.0, 4626.0, 4626.0, 4808.0, 4973.0, 5150.0, 5336.0, 5517.0, 5934.0, 5934.0, 6173.0, 6438.0, 6736.0, 7000.0, 7267.0, 7507.0, 7777.0, 8027.0, 8307.0, 8566.0, 8844.0, 9142.0, 9391.0, 9674.0, 9978.0, 10303.0, 10645.0, 10957.0, 11207.0, 11508.0, 11846.0, 12207.0, 12582.0, 12975.0, 13377.0, 13792.0, 14221.0, 14630.0, 15035.0, 15446.0, 15841.0, 16230.0, 16632.0, 17050.0, 17448.0, 17843.0, 18262.0, 18701.0, 19126.0, 19544.0, 19978.0, 20423.0, 20872.0, 21269.0, 21644.0, 21993.0, 22314.0, 22619.0, 22912.0, 23193.0, 23462.0, 23717.0, 23964.0, 24420.0, 24420.0, 24622.0, 24811.0, 24986.0, 25140.0, 25284.0, 25415.0, 25635.0, 25729.0, 25820.0, 25904.0, 25904.0, 26000.0, 26099.0, 26308.0, 26308.0, 26413.0, 26511.0, 26602.0, 26688.0, 26851.0, 26928.0, 27009.0, 27088.0, 27163.0, 27163.0, 27249.0, 27346.0, 27428.0, 27553.0, 27798.0, 27954.0, 27954.0, 28201.0, 28415.0, 28415.0, 28630.0, 28809.0, 28981.0, 29077.0, 29175.0, 29175.0, 29358.0, 29450.0, 29643.0, 29737.0, 29842.0, 29842.0, 29951.0, 29951.0, 30196.0, 30196.0, 30480.0, 30766.0, 31061.0, 31265.0, 31456.0, 31666.0, 31666.0, 31975.0, 32120.0, 32262.0, 32421.0, 32585.0, 32585.0, 32925.0, 32925.0, 32925.0, 33445.0, 33445.0, 33445.0, 34015.0, 34015.0, 34015.0, 34015.0, 34782.0, 35145.0, 35145.0, 35145.0, 35145.0, 35145.0, 35145.0, 36030.0, 36195.0, 36358.0, 36358.0, 36669.0, 36669.0, 36965.0, 37109.0, 37250.0, 37250.0, 37562.0, 37884.0]\n"
     ]
    },
    {
     "data": {
      "image/png": "[encoded data removed]",
      "text/plain": [
       "<Figure size 432x288 with 1 Axes>"
      ]
     },
     "metadata": {
      "needs_background": "light"
     },
     "output_type": "display_data"
    }
   ],
   "source": [
    "plt.scatter(x, y, label=\"Datos Reales\")\n",
    "x_real = np.array(range(78, 335))\n",
    "print(y) #Mostramos los casos que hay para cada fecha\n",
    "plt.plot(x_real, regr.predict(x_real.reshape(-1, 1)), color='red', label=\"Modelo Lineal\")\n",
    "plt.title(\"Modelo Lineal\")\n",
    "plt.show()"
   ]
  },
  {
   "cell_type": "markdown",
   "metadata": {},
   "source": [
    "### Modelo Exponencial"
   ]
  },
  {
   "cell_type": "code",
   "execution_count": 8,
   "metadata": {},
   "outputs": [
    {
     "name": "stdout",
     "output_type": "stream",
     "text": [
      "[ 2.39923696e+02  1.04492359e-02 -1.73137599e+02]\n",
      "Despues de 7 días tendremos:  59812.0  casos\n"
     ]
    },
    {
     "data": {
      "image/png": "[encoded data removed]",
      "text/plain": [
       "<Figure size 504x504 with 1 Axes>"
      ]
     },
     "metadata": {
      "needs_background": "light"
     },
     "output_type": "display_data"
    },
    {
     "name": "stdout",
     "output_type": "stream",
     "text": [
      "\n"
     ]
    }
   ],
   "source": [
    "def modelo_exponencial(x, a, b,c):\n",
    "    return a * np.exp(b*(x - c))\n",
    "\n",
    "popt, pcov = curve_fit(modelo_exponencial, x, y, maxfev=6000)\n",
    "print(popt)\n",
    "pred_x = np.array(range(78,355)) # Predecir \n",
    "plt.rcParams['figure.figsize'] = [7, 7]\n",
    "plt.rc('font', size=14)\n",
    "\n",
    "plt.scatter(x,y,label=\"Datos Reales\",color=\"red\")\n",
    "plt.plot(pred_x, [modelo_exponencial(i,popt[0],popt[1],popt[2]) for i in pred_x], label=\"Modelo Exponencial\" )\n",
    "\n",
    "print(\"Despues de 7 días tendremos: \",round(modelo_exponencial(355,popt[0],popt[1],popt[2])), ' casos')\n",
    "plt.legend()\n",
    "plt.title(\"Modelo Exponencial\")\n",
    "plt.show()\n",
    "print()"
   ]
  },
  {
   "cell_type": "markdown",
   "metadata": {},
   "source": [
    "### Modelo Polinómico"
   ]
  },
  {
   "cell_type": "code",
   "execution_count": 9,
   "metadata": {},
   "outputs": [
    {
     "name": "stdout",
     "output_type": "stream",
     "text": [
      "Despues de 7 días tendremos:  33960.0\n"
     ]
    },
    {
     "data": {
      "image/png": "[encoded data removed]",
      "text/plain": [
       "<Figure size 504x504 with 1 Axes>"
      ]
     },
     "metadata": {
      "needs_background": "light"
     },
     "output_type": "display_data"
    }
   ],
   "source": [
    "modelo_polinomial = {}\n",
    "prediccion = 0\n",
    "\n",
    "for grado in range(4,5):\n",
    "    resultados_modelo = np.polyfit(x, y, grado, full=True)\n",
    "    modelo_polinomial[grado] = resultados_modelo\n",
    "\n",
    "plt.rcParams['figure.figsize'] = [7, 7]\n",
    "plt.rc('font', size=12)\n",
    "plt.scatter(x,y,label=\"Datos Reales\",color=\"red\")\n",
    "\n",
    "prediccion_x = np.array(range(78,355))\n",
    "for grado, modelo in modelo_polinomial.items():\n",
    "    coeficientes, error, *_ = modelo\n",
    "    prediccion = np.poly1d(coeficientes)\n",
    "    print(\"Despues de 7 días tendremos: \",round(prediccion(355)))\n",
    "    plt.plot(prediccion_x, prediccion(prediccion_x), \"-\", label=\"Modelo Polinomico\")\n",
    "plt.legend()\n",
    "plt.title(\"Modelo Polinomico\")\n",
    "plt.show()"
   ]
  },
  {
   "cell_type": "markdown",
   "metadata": {},
   "source": [
    "### Modelo Logarítmico"
   ]
  },
  {
   "cell_type": "code",
   "execution_count": 10,
   "metadata": {},
   "outputs": [
    {
     "name": "stdout",
     "output_type": "stream",
     "text": [
      "(array([-148722.6121393 ,   31285.23064977]), array([[16621256.45955038, -3153668.73567356],\n",
      "       [-3153668.73567356,   601790.62980389]]))\n"
     ]
    }
   ],
   "source": [
    "def modelo_logaritmico(x,a,b):\n",
    "    return a+b*np.log(x)\n",
    "\n",
    "exp_fit = curve_fit(modelo_logaritmico,x,y) #Extraemos los valores de los paramatros\n",
    "print(exp_fit)"
   ]
  },
  {
   "cell_type": "code",
   "execution_count": 11,
   "metadata": {},
   "outputs": [
    {
     "name": "stdout",
     "output_type": "stream",
     "text": [
      "Despues de 7 días tendremos:  34988.0  casos\n"
     ]
    },
    {
     "data": {
      "image/png": "[encoded data removed]",
      "text/plain": [
       "<Figure size 504x504 with 1 Axes>"
      ]
     },
     "metadata": {
      "needs_background": "light"
     },
     "output_type": "display_data"
    }
   ],
   "source": [
    "pred_x = list(range(min(x),max(x)+7)) # Predecir 7 dias mas\n",
    "plt.rcParams['figure.figsize'] = [7, 7]\n",
    "plt.rc('font', size=14)\n",
    "# Real data\n",
    "plt.scatter(x,y,label=\"Datos Reales\",color=\"red\")\n",
    "# Predicted exponential curve\n",
    "plt.plot(pred_x, [modelo_logaritmico(i,exp_fit[0][0],exp_fit[0][1]) for i in pred_x], label=\"Modelo Logarítmico\" )\n",
    "print(\"Despues de 7 días tendremos: \",round(modelo_logaritmico(355,exp_fit[0][0],exp_fit[0][1])), ' casos')\n",
    "plt.legend()\n",
    "plt.title(\"Modelo Logarítmico\")\n",
    "plt.ylim((min(y)*0.9,max(y)*3.1)) # Definir los limites de Y\n",
    "plt.show()"
   ]
  },
  {
   "cell_type": "markdown",
   "metadata": {},
   "source": [
    "▪\tGenerar un modelo probabilistico con los datos."
   ]
  },
  {
   "cell_type": "code",
   "execution_count": 12,
   "metadata": {},
   "outputs": [
    {
     "name": "stdout",
     "output_type": "stream",
     "text": [
      "Mediana 12582.0\n",
      "Media 15226.85657370518\n"
     ]
    }
   ],
   "source": [
    "filtro =df['total_cases'] # Filtro los datos que se empezo a tener casos\n",
    "\n",
    "media = filtro.mean()\n",
    "mediana = filtro.median()\n",
    "print('Mediana', mediana)\n",
    "print('Media', media)"
   ]
  },
  {
   "cell_type": "code",
   "execution_count": 13,
   "metadata": {},
   "outputs": [
    {
     "name": "stdout",
     "output_type": "stream",
     "text": [
      "37884.0\n",
      "50466\n"
     ]
    }
   ],
   "source": [
    "y = list(df.iloc [:, 1]) # Total casos\n",
    "x = list(df.iloc [:, 0]) # Dias\n",
    "\n",
    "print(y[-1])\n",
    "prediccion_siguiente = int(y[-1] + mediana)\n",
    "print(prediccion_siguiente)"
   ]
  },
  {
   "cell_type": "code",
   "execution_count": 14,
   "metadata": {},
   "outputs": [
    {
     "name": "stdout",
     "output_type": "stream",
     "text": [
      "En 7 dias el numero de casos es 125958\n"
     ]
    },
    {
     "data": {
      "image/png": "[encoded data removed]",
      "text/plain": [
       "<Figure size 504x504 with 1 Axes>"
      ]
     },
     "metadata": {
      "needs_background": "light"
     },
     "output_type": "display_data"
    }
   ],
   "source": [
    "plt.scatter(x, y,label=\"Datos Reales\", color='red')\n",
    "plt.plot()\n",
    "\n",
    "for i in range(x[-1]+1, x[-1]+8):\n",
    "    x.append(i)\n",
    "    y.append(int(y[-1] + mediana))\n",
    "\n",
    "plt.plot(x,y,label=\"Modelo Probabilistico\", color=\"blue\")\n",
    "print('En 7 dias el numero de casos es', y[-1])\n",
    "plt.plot(x[-1],y[-1],'go', label='Dato prediccion')\n",
    "plt.legend()\n",
    "plt.title(\"Modelo Probabilistico\")\n",
    "plt.show()"
   ]
  },
  {
   "cell_type": "markdown",
   "metadata": {},
   "source": [
    "### Conclusiones"
   ]
  },
  {
   "cell_type": "markdown",
   "metadata": {},
   "source": [
    "•\tCual tiene una mejor predicción"
   ]
  },
  {
   "cell_type": "markdown",
   "metadata": {},
   "source": [
    "Según lo visto en todos los modelos el que tiene mejor predicción es el modelo Probabilistico ya que este se ajusta de mejor manera a los datos reales y es un número mas considerable que el de los otros modelos, se podría decir tambien que el modelo polinomial en grado mayor ya que se acoplaba un poco al modelo real pero en la predicción nos daba un valor negativo por lo cual, el MODELO PROBABILÍSTICO es el mejor."
   ]
  },
  {
   "cell_type": "markdown",
   "metadata": {},
   "source": [
    "•\tVentajas y desventajas de los modelos"
   ]
  },
  {
   "cell_type": "markdown",
   "metadata": {},
   "source": [
    "#### Ventajas"
   ]
  },
  {
   "cell_type": "markdown",
   "metadata": {},
   "source": [
    "- No requiere de gran volumen de datos históricos.\n",
    "\n",
    "- Al ser un modelo polinomial, es más preciso, ya que dependiendo del grado se adaptara a la realidad que se desee estudiar.\n",
    "\n",
    "- Trabaja bien sobre datos no lineales.\n",
    "\n",
    "- Las funciones exponenciales pueden ser utilizadas para realizar aproximaciones a valores muy altos.\n"
   ]
  },
  {
   "cell_type": "markdown",
   "metadata": {},
   "source": [
    "#### Desventajas"
   ]
  },
  {
   "cell_type": "markdown",
   "metadata": {},
   "source": [
    "- No producen una función de regresión fácilmente representable por una fórmula matemática.\n",
    "\n",
    "- En caso del polinomico se requiere elegir el grado correcto del para una buena predicción."
   ]
  },
  {
   "cell_type": "markdown",
   "metadata": {},
   "source": [
    "•\tCual es el principal problema del modelo probabilistico"
   ]
  },
  {
   "cell_type": "markdown",
   "metadata": {},
   "source": [
    "Para mi parecer el modelo probabilistico se adapta a la realidad solo hasta el rango de datos reales el problema surge al momento de predecir, ya que cada dia va a ir aumentando su valor de acuerdo a la mediana lo cual va a tener una predicción más alta."
   ]
  },
  {
   "cell_type": "code",
   "execution_count": null,
   "metadata": {},
   "outputs": [],
   "source": []
  }
 ],
 "metadata": {
  "kernelspec": {
   "display_name": "Python 3",
   "language": "python",
   "name": "python3"
  },
  "language_info": {
   "codemirror_mode": {
    "name": "ipython",
    "version": 3
   },
   "file_extension": ".py",
   "mimetype": "text/x-python",
   "name": "python",
   "nbconvert_exporter": "python",
   "pygments_lexer": "ipython3",
   "version": "3.7.4"
  }
 },
 "nbformat": 4,
 "nbformat_minor": 2
}
