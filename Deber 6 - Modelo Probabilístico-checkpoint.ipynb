{
 "cells": [
  {
   "cell_type": "markdown",
   "metadata": {},
   "source": [
    "<center><h1>Modelo Probabilístico</h1></center>\n",
    "<h3>Definición</h3>\n",
    "\n",
    "- Un modelo probabilístico o estadístico es un tipo de modelo matemático que usa la probabilidad, y que incluye un conjunto de asunciones sobre la generación de algunos datos muestrales, de tal manera que asemejen a los datos de una población mayor.\n",
    "\n",
    "<h3>Realización del modelo</h3>"
   ]
  },
  {
   "cell_type": "markdown",
   "metadata": {},
   "source": [
    "- Como primer paso importamos las librerías necesarias"
   ]
  },
  {
   "cell_type": "code",
   "execution_count": 1,
   "metadata": {},
   "outputs": [],
   "source": [
    "import pandas as pd\n",
    "import numpy as np\n",
    "from datetime import datetime,timedelta\n",
    "from sklearn.metrics import mean_squared_error\n",
    "from scipy.optimize import curve_fit\n",
    "from scipy.optimize import fsolve\n",
    "from sklearn import linear_model\n",
    "import matplotlib.pyplot as plt\n",
    "\n",
    "%matplotlib inline"
   ]
  },
  {
   "cell_type": "markdown",
   "metadata": {},
   "source": [
    "- Luego se lee los datos o información de los paises con respecto a COVID-19 del siguiente link:\n",
    "\n",
    "<center><a href=\"https://covid.ourworldindata.org/data/owid-covid-data.csv\">https://covid.ourworldindata.org/data/owid-covid-data.csv</a><center>"
   ]
  },
  {
   "cell_type": "code",
   "execution_count": 2,
   "metadata": {},
   "outputs": [
    {
     "data": {
      "text/html": [
       "<div>\n",
       "<style scoped>\n",
       "    .dataframe tbody tr th:only-of-type {\n",
       "        vertical-align: middle;\n",
       "    }\n",
       "\n",
       "    .dataframe tbody tr th {\n",
       "        vertical-align: top;\n",
       "    }\n",
       "\n",
       "    .dataframe thead th {\n",
       "        text-align: right;\n",
       "    }\n",
       "</style>\n",
       "<table border=\"1\" class=\"dataframe\">\n",
       "  <thead>\n",
       "    <tr style=\"text-align: right;\">\n",
       "      <th></th>\n",
       "      <th>iso_code</th>\n",
       "      <th>continent</th>\n",
       "      <th>location</th>\n",
       "      <th>date</th>\n",
       "      <th>total_cases</th>\n",
       "      <th>new_cases</th>\n",
       "      <th>new_cases_smoothed</th>\n",
       "      <th>total_deaths</th>\n",
       "      <th>new_deaths</th>\n",
       "      <th>new_deaths_smoothed</th>\n",
       "      <th>...</th>\n",
       "      <th>gdp_per_capita</th>\n",
       "      <th>extreme_poverty</th>\n",
       "      <th>cardiovasc_death_rate</th>\n",
       "      <th>diabetes_prevalence</th>\n",
       "      <th>female_smokers</th>\n",
       "      <th>male_smokers</th>\n",
       "      <th>handwashing_facilities</th>\n",
       "      <th>hospital_beds_per_thousand</th>\n",
       "      <th>life_expectancy</th>\n",
       "      <th>human_development_index</th>\n",
       "    </tr>\n",
       "  </thead>\n",
       "  <tbody>\n",
       "    <tr>\n",
       "      <td>0</td>\n",
       "      <td>AFG</td>\n",
       "      <td>Asia</td>\n",
       "      <td>Afghanistan</td>\n",
       "      <td>2020-01-23</td>\n",
       "      <td>0.0</td>\n",
       "      <td>0.0</td>\n",
       "      <td>0.000</td>\n",
       "      <td>0.0</td>\n",
       "      <td>0.0</td>\n",
       "      <td>0.000</td>\n",
       "      <td>...</td>\n",
       "      <td>1803.987</td>\n",
       "      <td>0.0</td>\n",
       "      <td>597.029</td>\n",
       "      <td>9.59</td>\n",
       "      <td>0.0</td>\n",
       "      <td>0.0</td>\n",
       "      <td>37.746</td>\n",
       "      <td>0.5</td>\n",
       "      <td>64.83</td>\n",
       "      <td>0.498</td>\n",
       "    </tr>\n",
       "    <tr>\n",
       "      <td>1</td>\n",
       "      <td>AFG</td>\n",
       "      <td>Asia</td>\n",
       "      <td>Afghanistan</td>\n",
       "      <td>2020-01-24</td>\n",
       "      <td>0.0</td>\n",
       "      <td>0.0</td>\n",
       "      <td>0.000</td>\n",
       "      <td>0.0</td>\n",
       "      <td>0.0</td>\n",
       "      <td>0.000</td>\n",
       "      <td>...</td>\n",
       "      <td>1803.987</td>\n",
       "      <td>0.0</td>\n",
       "      <td>597.029</td>\n",
       "      <td>9.59</td>\n",
       "      <td>0.0</td>\n",
       "      <td>0.0</td>\n",
       "      <td>37.746</td>\n",
       "      <td>0.5</td>\n",
       "      <td>64.83</td>\n",
       "      <td>0.498</td>\n",
       "    </tr>\n",
       "    <tr>\n",
       "      <td>2</td>\n",
       "      <td>AFG</td>\n",
       "      <td>Asia</td>\n",
       "      <td>Afghanistan</td>\n",
       "      <td>2020-01-25</td>\n",
       "      <td>0.0</td>\n",
       "      <td>0.0</td>\n",
       "      <td>0.000</td>\n",
       "      <td>0.0</td>\n",
       "      <td>0.0</td>\n",
       "      <td>0.000</td>\n",
       "      <td>...</td>\n",
       "      <td>1803.987</td>\n",
       "      <td>0.0</td>\n",
       "      <td>597.029</td>\n",
       "      <td>9.59</td>\n",
       "      <td>0.0</td>\n",
       "      <td>0.0</td>\n",
       "      <td>37.746</td>\n",
       "      <td>0.5</td>\n",
       "      <td>64.83</td>\n",
       "      <td>0.498</td>\n",
       "    </tr>\n",
       "    <tr>\n",
       "      <td>3</td>\n",
       "      <td>AFG</td>\n",
       "      <td>Asia</td>\n",
       "      <td>Afghanistan</td>\n",
       "      <td>2020-01-26</td>\n",
       "      <td>0.0</td>\n",
       "      <td>0.0</td>\n",
       "      <td>0.000</td>\n",
       "      <td>0.0</td>\n",
       "      <td>0.0</td>\n",
       "      <td>0.000</td>\n",
       "      <td>...</td>\n",
       "      <td>1803.987</td>\n",
       "      <td>0.0</td>\n",
       "      <td>597.029</td>\n",
       "      <td>9.59</td>\n",
       "      <td>0.0</td>\n",
       "      <td>0.0</td>\n",
       "      <td>37.746</td>\n",
       "      <td>0.5</td>\n",
       "      <td>64.83</td>\n",
       "      <td>0.498</td>\n",
       "    </tr>\n",
       "    <tr>\n",
       "      <td>4</td>\n",
       "      <td>AFG</td>\n",
       "      <td>Asia</td>\n",
       "      <td>Afghanistan</td>\n",
       "      <td>2020-01-27</td>\n",
       "      <td>0.0</td>\n",
       "      <td>0.0</td>\n",
       "      <td>0.000</td>\n",
       "      <td>0.0</td>\n",
       "      <td>0.0</td>\n",
       "      <td>0.000</td>\n",
       "      <td>...</td>\n",
       "      <td>1803.987</td>\n",
       "      <td>0.0</td>\n",
       "      <td>597.029</td>\n",
       "      <td>9.59</td>\n",
       "      <td>0.0</td>\n",
       "      <td>0.0</td>\n",
       "      <td>37.746</td>\n",
       "      <td>0.5</td>\n",
       "      <td>64.83</td>\n",
       "      <td>0.498</td>\n",
       "    </tr>\n",
       "    <tr>\n",
       "      <td>...</td>\n",
       "      <td>...</td>\n",
       "      <td>...</td>\n",
       "      <td>...</td>\n",
       "      <td>...</td>\n",
       "      <td>...</td>\n",
       "      <td>...</td>\n",
       "      <td>...</td>\n",
       "      <td>...</td>\n",
       "      <td>...</td>\n",
       "      <td>...</td>\n",
       "      <td>...</td>\n",
       "      <td>...</td>\n",
       "      <td>...</td>\n",
       "      <td>...</td>\n",
       "      <td>...</td>\n",
       "      <td>...</td>\n",
       "      <td>...</td>\n",
       "      <td>...</td>\n",
       "      <td>...</td>\n",
       "      <td>...</td>\n",
       "      <td>...</td>\n",
       "    </tr>\n",
       "    <tr>\n",
       "      <td>61049</td>\n",
       "      <td>ZWE</td>\n",
       "      <td>Africa</td>\n",
       "      <td>Zimbabwe</td>\n",
       "      <td>2020-12-02</td>\n",
       "      <td>10129.0</td>\n",
       "      <td>0.0</td>\n",
       "      <td>88.714</td>\n",
       "      <td>277.0</td>\n",
       "      <td>0.0</td>\n",
       "      <td>0.429</td>\n",
       "      <td>...</td>\n",
       "      <td>1899.775</td>\n",
       "      <td>21.4</td>\n",
       "      <td>307.846</td>\n",
       "      <td>1.82</td>\n",
       "      <td>1.6</td>\n",
       "      <td>30.7</td>\n",
       "      <td>36.791</td>\n",
       "      <td>1.7</td>\n",
       "      <td>61.49</td>\n",
       "      <td>0.535</td>\n",
       "    </tr>\n",
       "    <tr>\n",
       "      <td>61050</td>\n",
       "      <td>ZWE</td>\n",
       "      <td>Africa</td>\n",
       "      <td>Zimbabwe</td>\n",
       "      <td>2020-12-03</td>\n",
       "      <td>10424.0</td>\n",
       "      <td>295.0</td>\n",
       "      <td>114.429</td>\n",
       "      <td>280.0</td>\n",
       "      <td>3.0</td>\n",
       "      <td>0.857</td>\n",
       "      <td>...</td>\n",
       "      <td>1899.775</td>\n",
       "      <td>21.4</td>\n",
       "      <td>307.846</td>\n",
       "      <td>1.82</td>\n",
       "      <td>1.6</td>\n",
       "      <td>30.7</td>\n",
       "      <td>36.791</td>\n",
       "      <td>1.7</td>\n",
       "      <td>61.49</td>\n",
       "      <td>0.535</td>\n",
       "    </tr>\n",
       "    <tr>\n",
       "      <td>61051</td>\n",
       "      <td>ZWE</td>\n",
       "      <td>Africa</td>\n",
       "      <td>Zimbabwe</td>\n",
       "      <td>2020-12-04</td>\n",
       "      <td>10547.0</td>\n",
       "      <td>123.0</td>\n",
       "      <td>119.000</td>\n",
       "      <td>281.0</td>\n",
       "      <td>1.0</td>\n",
       "      <td>0.857</td>\n",
       "      <td>...</td>\n",
       "      <td>1899.775</td>\n",
       "      <td>21.4</td>\n",
       "      <td>307.846</td>\n",
       "      <td>1.82</td>\n",
       "      <td>1.6</td>\n",
       "      <td>30.7</td>\n",
       "      <td>36.791</td>\n",
       "      <td>1.7</td>\n",
       "      <td>61.49</td>\n",
       "      <td>0.535</td>\n",
       "    </tr>\n",
       "    <tr>\n",
       "      <td>61052</td>\n",
       "      <td>ZWE</td>\n",
       "      <td>Africa</td>\n",
       "      <td>Zimbabwe</td>\n",
       "      <td>2020-12-05</td>\n",
       "      <td>10617.0</td>\n",
       "      <td>70.0</td>\n",
       "      <td>113.571</td>\n",
       "      <td>291.0</td>\n",
       "      <td>10.0</td>\n",
       "      <td>2.286</td>\n",
       "      <td>...</td>\n",
       "      <td>1899.775</td>\n",
       "      <td>21.4</td>\n",
       "      <td>307.846</td>\n",
       "      <td>1.82</td>\n",
       "      <td>1.6</td>\n",
       "      <td>30.7</td>\n",
       "      <td>36.791</td>\n",
       "      <td>1.7</td>\n",
       "      <td>61.49</td>\n",
       "      <td>0.535</td>\n",
       "    </tr>\n",
       "    <tr>\n",
       "      <td>61053</td>\n",
       "      <td>ZWE</td>\n",
       "      <td>Africa</td>\n",
       "      <td>Zimbabwe</td>\n",
       "      <td>2020-12-06</td>\n",
       "      <td>10718.0</td>\n",
       "      <td>101.0</td>\n",
       "      <td>128.000</td>\n",
       "      <td>291.0</td>\n",
       "      <td>0.0</td>\n",
       "      <td>2.286</td>\n",
       "      <td>...</td>\n",
       "      <td>1899.775</td>\n",
       "      <td>21.4</td>\n",
       "      <td>307.846</td>\n",
       "      <td>1.82</td>\n",
       "      <td>1.6</td>\n",
       "      <td>30.7</td>\n",
       "      <td>36.791</td>\n",
       "      <td>1.7</td>\n",
       "      <td>61.49</td>\n",
       "      <td>0.535</td>\n",
       "    </tr>\n",
       "  </tbody>\n",
       "</table>\n",
       "<p>61054 rows × 50 columns</p>\n",
       "</div>"
      ],
      "text/plain": [
       "      iso_code continent     location        date  total_cases  new_cases  \\\n",
       "0          AFG      Asia  Afghanistan  2020-01-23          0.0        0.0   \n",
       "1          AFG      Asia  Afghanistan  2020-01-24          0.0        0.0   \n",
       "2          AFG      Asia  Afghanistan  2020-01-25          0.0        0.0   \n",
       "3          AFG      Asia  Afghanistan  2020-01-26          0.0        0.0   \n",
       "4          AFG      Asia  Afghanistan  2020-01-27          0.0        0.0   \n",
       "...        ...       ...          ...         ...          ...        ...   \n",
       "61049      ZWE    Africa     Zimbabwe  2020-12-02      10129.0        0.0   \n",
       "61050      ZWE    Africa     Zimbabwe  2020-12-03      10424.0      295.0   \n",
       "61051      ZWE    Africa     Zimbabwe  2020-12-04      10547.0      123.0   \n",
       "61052      ZWE    Africa     Zimbabwe  2020-12-05      10617.0       70.0   \n",
       "61053      ZWE    Africa     Zimbabwe  2020-12-06      10718.0      101.0   \n",
       "\n",
       "       new_cases_smoothed  total_deaths  new_deaths  new_deaths_smoothed  ...  \\\n",
       "0                   0.000           0.0         0.0                0.000  ...   \n",
       "1                   0.000           0.0         0.0                0.000  ...   \n",
       "2                   0.000           0.0         0.0                0.000  ...   \n",
       "3                   0.000           0.0         0.0                0.000  ...   \n",
       "4                   0.000           0.0         0.0                0.000  ...   \n",
       "...                   ...           ...         ...                  ...  ...   \n",
       "61049              88.714         277.0         0.0                0.429  ...   \n",
       "61050             114.429         280.0         3.0                0.857  ...   \n",
       "61051             119.000         281.0         1.0                0.857  ...   \n",
       "61052             113.571         291.0        10.0                2.286  ...   \n",
       "61053             128.000         291.0         0.0                2.286  ...   \n",
       "\n",
       "       gdp_per_capita  extreme_poverty  cardiovasc_death_rate  \\\n",
       "0            1803.987              0.0                597.029   \n",
       "1            1803.987              0.0                597.029   \n",
       "2            1803.987              0.0                597.029   \n",
       "3            1803.987              0.0                597.029   \n",
       "4            1803.987              0.0                597.029   \n",
       "...               ...              ...                    ...   \n",
       "61049        1899.775             21.4                307.846   \n",
       "61050        1899.775             21.4                307.846   \n",
       "61051        1899.775             21.4                307.846   \n",
       "61052        1899.775             21.4                307.846   \n",
       "61053        1899.775             21.4                307.846   \n",
       "\n",
       "       diabetes_prevalence  female_smokers  male_smokers  \\\n",
       "0                     9.59             0.0           0.0   \n",
       "1                     9.59             0.0           0.0   \n",
       "2                     9.59             0.0           0.0   \n",
       "3                     9.59             0.0           0.0   \n",
       "4                     9.59             0.0           0.0   \n",
       "...                    ...             ...           ...   \n",
       "61049                 1.82             1.6          30.7   \n",
       "61050                 1.82             1.6          30.7   \n",
       "61051                 1.82             1.6          30.7   \n",
       "61052                 1.82             1.6          30.7   \n",
       "61053                 1.82             1.6          30.7   \n",
       "\n",
       "       handwashing_facilities  hospital_beds_per_thousand  life_expectancy  \\\n",
       "0                      37.746                         0.5            64.83   \n",
       "1                      37.746                         0.5            64.83   \n",
       "2                      37.746                         0.5            64.83   \n",
       "3                      37.746                         0.5            64.83   \n",
       "4                      37.746                         0.5            64.83   \n",
       "...                       ...                         ...              ...   \n",
       "61049                  36.791                         1.7            61.49   \n",
       "61050                  36.791                         1.7            61.49   \n",
       "61051                  36.791                         1.7            61.49   \n",
       "61052                  36.791                         1.7            61.49   \n",
       "61053                  36.791                         1.7            61.49   \n",
       "\n",
       "       human_development_index  \n",
       "0                        0.498  \n",
       "1                        0.498  \n",
       "2                        0.498  \n",
       "3                        0.498  \n",
       "4                        0.498  \n",
       "...                        ...  \n",
       "61049                    0.535  \n",
       "61050                    0.535  \n",
       "61051                    0.535  \n",
       "61052                    0.535  \n",
       "61053                    0.535  \n",
       "\n",
       "[61054 rows x 50 columns]"
      ]
     },
     "execution_count": 2,
     "metadata": {},
     "output_type": "execute_result"
    }
   ],
   "source": [
    "url = 'https://covid.ourworldindata.org/data/owid-covid-data.csv'\n",
    "\n",
    "data = pd.read_csv(url).fillna(0)\n",
    "data"
   ]
  },
  {
   "cell_type": "markdown",
   "metadata": {},
   "source": [
    "- Ahora se debe recuperar la información necesaria solo del país Ecuador con total de casos mayores a 0"
   ]
  },
  {
   "cell_type": "code",
   "execution_count": 3,
   "metadata": {},
   "outputs": [
    {
     "data": {
      "text/html": [
       "<div>\n",
       "<style scoped>\n",
       "    .dataframe tbody tr th:only-of-type {\n",
       "        vertical-align: middle;\n",
       "    }\n",
       "\n",
       "    .dataframe tbody tr th {\n",
       "        vertical-align: top;\n",
       "    }\n",
       "\n",
       "    .dataframe thead th {\n",
       "        text-align: right;\n",
       "    }\n",
       "</style>\n",
       "<table border=\"1\" class=\"dataframe\">\n",
       "  <thead>\n",
       "    <tr style=\"text-align: right;\">\n",
       "      <th></th>\n",
       "      <th>date</th>\n",
       "      <th>total_cases</th>\n",
       "      <th>total_deaths</th>\n",
       "      <th>location</th>\n",
       "    </tr>\n",
       "  </thead>\n",
       "  <tbody>\n",
       "    <tr>\n",
       "      <td>15989</td>\n",
       "      <td>60</td>\n",
       "      <td>6.0</td>\n",
       "      <td>0.0</td>\n",
       "      <td>Ecuador</td>\n",
       "    </tr>\n",
       "    <tr>\n",
       "      <td>15990</td>\n",
       "      <td>61</td>\n",
       "      <td>6.0</td>\n",
       "      <td>0.0</td>\n",
       "      <td>Ecuador</td>\n",
       "    </tr>\n",
       "    <tr>\n",
       "      <td>15991</td>\n",
       "      <td>62</td>\n",
       "      <td>7.0</td>\n",
       "      <td>0.0</td>\n",
       "      <td>Ecuador</td>\n",
       "    </tr>\n",
       "    <tr>\n",
       "      <td>15992</td>\n",
       "      <td>63</td>\n",
       "      <td>10.0</td>\n",
       "      <td>0.0</td>\n",
       "      <td>Ecuador</td>\n",
       "    </tr>\n",
       "    <tr>\n",
       "      <td>15993</td>\n",
       "      <td>64</td>\n",
       "      <td>13.0</td>\n",
       "      <td>0.0</td>\n",
       "      <td>Ecuador</td>\n",
       "    </tr>\n",
       "    <tr>\n",
       "      <td>...</td>\n",
       "      <td>...</td>\n",
       "      <td>...</td>\n",
       "      <td>...</td>\n",
       "      <td>...</td>\n",
       "    </tr>\n",
       "    <tr>\n",
       "      <td>16265</td>\n",
       "      <td>336</td>\n",
       "      <td>194876.0</td>\n",
       "      <td>13562.0</td>\n",
       "      <td>Ecuador</td>\n",
       "    </tr>\n",
       "    <tr>\n",
       "      <td>16266</td>\n",
       "      <td>337</td>\n",
       "      <td>195884.0</td>\n",
       "      <td>13612.0</td>\n",
       "      <td>Ecuador</td>\n",
       "    </tr>\n",
       "    <tr>\n",
       "      <td>16267</td>\n",
       "      <td>338</td>\n",
       "      <td>196482.0</td>\n",
       "      <td>13696.0</td>\n",
       "      <td>Ecuador</td>\n",
       "    </tr>\n",
       "    <tr>\n",
       "      <td>16268</td>\n",
       "      <td>339</td>\n",
       "      <td>197391.0</td>\n",
       "      <td>13756.0</td>\n",
       "      <td>Ecuador</td>\n",
       "    </tr>\n",
       "    <tr>\n",
       "      <td>16269</td>\n",
       "      <td>340</td>\n",
       "      <td>197998.0</td>\n",
       "      <td>13778.0</td>\n",
       "      <td>Ecuador</td>\n",
       "    </tr>\n",
       "  </tbody>\n",
       "</table>\n",
       "<p>281 rows × 4 columns</p>\n",
       "</div>"
      ],
      "text/plain": [
       "       date  total_cases  total_deaths location\n",
       "15989    60          6.0           0.0  Ecuador\n",
       "15990    61          6.0           0.0  Ecuador\n",
       "15991    62          7.0           0.0  Ecuador\n",
       "15992    63         10.0           0.0  Ecuador\n",
       "15993    64         13.0           0.0  Ecuador\n",
       "...     ...          ...           ...      ...\n",
       "16265   336     194876.0       13562.0  Ecuador\n",
       "16266   337     195884.0       13612.0  Ecuador\n",
       "16267   338     196482.0       13696.0  Ecuador\n",
       "16268   339     197391.0       13756.0  Ecuador\n",
       "16269   340     197998.0       13778.0  Ecuador\n",
       "\n",
       "[281 rows x 4 columns]"
      ]
     },
     "execution_count": 3,
     "metadata": {},
     "output_type": "execute_result"
    }
   ],
   "source": [
    "data = data.loc[(data['location'] == 'Ecuador') & (data['total_cases'] != 0)]\n",
    "data = data[['date','total_cases','total_deaths','location']]\n",
    "x=np.arange(1,len(data)+1,1) # número del dia\n",
    "y=np.array(data.values[:,1]) # número de casos\n",
    "y1=np.array(data.values[:,2])\n",
    "FMT = '%Y-%m-%d'\n",
    "date = data['date']\n",
    "data['date'] = date.map(lambda x : (datetime.strptime(x, FMT) - datetime.strptime(\"2020-01-01\", FMT)).days)\n",
    "data= data[data[\"date\"] > 0]\n",
    "data"
   ]
  },
  {
   "cell_type": "markdown",
   "metadata": {},
   "source": [
    "- Se grafica el total de casos de acuerdo a los dias"
   ]
  },
  {
   "cell_type": "code",
   "execution_count": 4,
   "metadata": {},
   "outputs": [
    {
     "data": {
      "text/plain": [
       "<matplotlib.axes._subplots.AxesSubplot at 0x212165b59c8>"
      ]
     },
     "execution_count": 4,
     "metadata": {},
     "output_type": "execute_result"
    },
    {
     "data": {
      "image/png": "[encoded data removed]",
      "text/plain": [
       "<Figure size 432x288 with 1 Axes>"
      ]
     },
     "metadata": {
      "needs_background": "light"
     },
     "output_type": "display_data"
    }
   ],
   "source": [
    "data.plot(x ='date', y='total_cases')"
   ]
  },
  {
   "cell_type": "markdown",
   "metadata": {},
   "source": [
    "- Ahora se procede a crear el objeto de regresión lineal"
   ]
  },
  {
   "cell_type": "code",
   "execution_count": 6,
   "metadata": {},
   "outputs": [
    {
     "name": "stdout",
     "output_type": "stream",
     "text": [
      "Coeficiente:  [753.2539227]\n",
      "Termino independiente:  -23946.134062023368\n"
     ]
    }
   ],
   "source": [
    "x = np.arange(1,len(data)+1,1) # número del dia \n",
    "y = np.array(data.values[:,1]) # número de casos\n",
    "\n",
    "regr = linear_model.LinearRegression()\n",
    " \n",
    "# Entrenamos nuestro modelo\n",
    "regr.fit(np.array(x).reshape(-1, 1) ,y)\n",
    "\n",
    "# Veamos los coeficienetes obtenidos, En nuestro caso, serán la Tangente\n",
    "print('Coeficiente: ', regr.coef_)\n",
    "# Este es el valor donde corta el eje Y (en X=0)\n",
    "print('Termino independiente: ', regr.intercept_)"
   ]
  },
  {
   "cell_type": "code",
   "execution_count": 7,
   "metadata": {},
   "outputs": [
    {
     "name": "stdout",
     "output_type": "stream",
     "text": [
      "Predicción:  235173\n"
     ]
    }
   ],
   "source": [
    "y_prediccion = regr.predict([[344]])\n",
    "print('Predicción: ' , int(y_prediccion))"
   ]
  },
  {
   "cell_type": "markdown",
   "metadata": {},
   "source": [
    "- Se grafica los casos y la predicción"
   ]
  },
  {
   "cell_type": "code",
   "execution_count": 9,
   "metadata": {},
   "outputs": [
    {
     "data": {
      "image/png": "[encoded data removed]",
      "text/plain": [
       "<Figure size 432x288 with 1 Axes>"
      ]
     },
     "metadata": {
      "needs_background": "light"
     },
     "output_type": "display_data"
    }
   ],
   "source": [
    "plt.scatter(x, y)\n",
    "x_real = np.array(range(50, 344))\n",
    "\n",
    "plt.plot(x_real, regr.predict(x_real.reshape(-1, 1)), color='red')\n",
    "plt.ylabel('# Casos')\n",
    "plt.xlabel('# Días')\n",
    "plt.legend(['Función','Datos'], loc='lower right')\n",
    "plt.grid(True)\n",
    "plt.show()"
   ]
  },
  {
   "cell_type": "markdown",
   "metadata": {},
   "source": [
    "- Gráfica para la predicción de 50 días mas"
   ]
  },
  {
   "cell_type": "code",
   "execution_count": 11,
   "metadata": {},
   "outputs": [
    {
     "data": {
      "image/png": "[encoded data removed]",
      "text/plain": [
       "<Figure size 576x576 with 1 Axes>"
      ]
     },
     "metadata": {
      "needs_background": "light"
     },
     "output_type": "display_data"
    }
   ],
   "source": [
    "plt.figure(figsize=(8, 8))\n",
    "plt.scatter(x,y,label='Real', color='blue')\n",
    "plt.title('Regresión Lineal Numero de Casos en 50 dias mas');\n",
    "x_real=np.arange(1,len(data)+51,1)\n",
    "plt.plot(x_real, regr.predict(x_real.reshape(-1, 1)), color='red')\n",
    "plt.ylabel('# Casos')\n",
    "plt.xlabel('# Días')\n",
    "plt.legend(['Función','Datos'], loc='lower right')\n",
    "plt.grid(True)\n",
    "plt.show()"
   ]
  },
  {
   "cell_type": "markdown",
   "metadata": {},
   "source": [
    "- Se procede a obtener la media y la mediana, ignorando los datos nulos"
   ]
  },
  {
   "cell_type": "code",
   "execution_count": 12,
   "metadata": {},
   "outputs": [
    {
     "name": "stdout",
     "output_type": "stream",
     "text": [
      "Mediana:  74013.0\n",
      "Media:  82262.66903914591\n"
     ]
    }
   ],
   "source": [
    "filtro = data[\"total_cases\"] \n",
    "\n",
    "media = filtro.mean()\n",
    "mediana = filtro.median()\n",
    "print('Mediana: ', mediana)\n",
    "print('Media: ', media)"
   ]
  },
  {
   "cell_type": "markdown",
   "metadata": {},
   "source": [
    "- Con los datos anteriores se puede predecir el valor siguiente"
   ]
  },
  {
   "cell_type": "code",
   "execution_count": 14,
   "metadata": {},
   "outputs": [
    {
     "name": "stdout",
     "output_type": "stream",
     "text": [
      "predicción siguiente:  272011\n"
     ]
    }
   ],
   "source": [
    "y = list(data.iloc [:, 1]) # Total casos\n",
    "x = list(data.iloc [:, 0]) # Dias\n",
    "\n",
    "prediccion_siguiente = int(y[-1] + mediana)\n",
    "print('predicción siguiente: ', prediccion_siguiente)"
   ]
  },
  {
   "cell_type": "markdown",
   "metadata": {},
   "source": [
    "- Finalmente se grafica los valores obtenidos"
   ]
  },
  {
   "cell_type": "code",
   "execution_count": 15,
   "metadata": {},
   "outputs": [
    {
     "data": {
      "image/png": "[encoded data removed]",
      "text/plain": [
       "<Figure size 432x288 with 1 Axes>"
      ]
     },
     "metadata": {
      "needs_background": "light"
     },
     "output_type": "display_data"
    }
   ],
   "source": [
    "for it in range(int(x[-1]), int(x[-1]+10)):\n",
    "    x = np.append(x,(it+1))\n",
    "    y = np.append(y,y[-1] + mediana)\n",
    "plt.plot(x,y)\n",
    "plt.ylabel('# Casos')\n",
    "plt.xlabel('# Días')\n",
    "plt.legend(['Función','Datos'], loc='lower right')\n",
    "plt.grid(True)\n",
    "plt.show()"
   ]
  },
  {
   "cell_type": "markdown",
   "metadata": {},
   "source": [
    "<h3>Análisis</h3>\n",
    "\n",
    "Como se puede observar en este caso el modelo probabilistico no se apega tanto a la realidad, en este caso se puede apreciar que el modelo lineal tiene más apego con los datos y la realidad."
   ]
  },
  {
   "cell_type": "markdown",
   "metadata": {},
   "source": [
    "<h3>Conclusión</h3>\n",
    "\n",
    "Para poder verificar que modelo es el adecuado hay que tener en cuenta como estan relacionados los datos, ya que en muchas ocaciones el modelo probabilístico se apega a la realidad pero para predecir ya no es lo adecuado, mientras que los modelos matemáticos se apegan mas y son mejores para la predicción de datos"
   ]
  }
 ],
 "metadata": {
  "kernelspec": {
   "display_name": "Python 3",
   "language": "python",
   "name": "python3"
  },
  "language_info": {
   "codemirror_mode": {
    "name": "ipython",
    "version": 3
   },
   "file_extension": ".py",
   "mimetype": "text/x-python",
   "name": "python",
   "nbconvert_exporter": "python",
   "pygments_lexer": "ipython3",
   "version": "3.7.4"
  }
 },
 "nbformat": 4,
 "nbformat_minor": 2
}
