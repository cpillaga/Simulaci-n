{
 "cells": [
  {
   "cell_type": "markdown",
   "metadata": {},
   "source": [
    "<h1><center>Simulación de suma de Dados</center></h1>\n",
    "\n",
    "## Nombre: Christian Pillaga S\n",
    "\n",
    "Primero importamos las siguientes librerias"
   ]
  },
  {
   "cell_type": "code",
   "execution_count": 1,
   "metadata": {},
   "outputs": [],
   "source": [
    "import matplotlib.pyplot as pp\n",
    "import numpy as np\n",
    "import pandas as pd\n",
    "from pandas import Series, DataFrame"
   ]
  },
  {
   "cell_type": "markdown",
   "metadata": {},
   "source": [
    "Luego procedemos a crear una clase en mi caso SimulacionDados y su constructor\n"
   ]
  },
  {
   "cell_type": "code",
   "execution_count": 2,
   "metadata": {},
   "outputs": [],
   "source": [
    "class SimulacionDados:\n",
    "    \n",
    "    def __init__(self):\n",
    "        print('Simulación de Dados')"
   ]
  },
  {
   "cell_type": "markdown",
   "metadata": {},
   "source": [
    "Ahora crearemos el metodo para realizar la simulación, para esto pondremos por defecto un valor n de 100"
   ]
  },
  {
   "cell_type": "code",
   "execution_count": 3,
   "metadata": {},
   "outputs": [],
   "source": [
    "    def calcular(self, n):\n",
    "        cont = [0,0,0,0,0,0,0,0,0,0,0]\n",
    "        \n",
    "        for i in range(1, n):\n",
    "            x1 = np.random.randint(1,7)\n",
    "            x2 = np.random.randint(1,7)\n",
    "\n",
    "            suma = x1 + x2\n",
    "            print(x1 , ' + ' , x2 , ' = ' , suma)\n",
    "            for j in range(2, 13):\n",
    "                if suma == j:\n",
    "                    cont[j-2] = cont[j-2] + 1\n",
    "\n",
    "        return cont"
   ]
  },
  {
   "cell_type": "markdown",
   "metadata": {},
   "source": [
    "Tambien se creará un método para realizar la gráfica"
   ]
  },
  {
   "cell_type": "code",
   "execution_count": 4,
   "metadata": {},
   "outputs": [],
   "source": [
    "    def grafica(self, valores):\n",
    "        etiqueta = ['2', '3', '4', '5', '6', '7', '8', '9', '10', '11', '12']\n",
    "        pp.xticks(range(len(valores)), etiqueta)\n",
    "        pp.xlabel('Sumas')\n",
    "        pp.ylabel('Probabilidad')\n",
    "        pp.title('Simulación suma Dados')\n",
    "        pp.bar(range(len(valores)), valores) \n",
    "        pp.show()"
   ]
  },
  {
   "cell_type": "markdown",
   "metadata": {},
   "source": [
    "Finalmente realizaremos las pruebas para esto empezaremos con valor de 100"
   ]
  },
  {
   "cell_type": "code",
   "execution_count": 5,
   "metadata": {},
   "outputs": [
    {
     "name": "stdout",
     "output_type": "stream",
     "text": [
      "Simulación de Dados\n"
     ]
    },
    {
     "ename": "AttributeError",
     "evalue": "'SimulacionDados' object has no attribute 'calcular'",
     "output_type": "error",
     "traceback": [
      "\u001b[1;31m---------------------------------------------------------------------------\u001b[0m",
      "\u001b[1;31mAttributeError\u001b[0m                            Traceback (most recent call last)",
      "\u001b[1;32m<ipython-input-5-d20c3fc66a38>\u001b[0m in \u001b[0;36m<module>\u001b[1;34m\u001b[0m\n\u001b[0;32m      1\u001b[0m \u001b[1;32mif\u001b[0m \u001b[0m__name__\u001b[0m\u001b[1;33m==\u001b[0m\u001b[1;34m\"__main__\"\u001b[0m\u001b[1;33m:\u001b[0m\u001b[1;33m\u001b[0m\u001b[1;33m\u001b[0m\u001b[0m\n\u001b[0;32m      2\u001b[0m     \u001b[0mfunciones\u001b[0m \u001b[1;33m=\u001b[0m \u001b[0mSimulacionDados\u001b[0m\u001b[1;33m(\u001b[0m\u001b[1;33m)\u001b[0m\u001b[1;33m\u001b[0m\u001b[1;33m\u001b[0m\u001b[0m\n\u001b[1;32m----> 3\u001b[1;33m     \u001b[0mc\u001b[0m \u001b[1;33m=\u001b[0m \u001b[0mfunciones\u001b[0m\u001b[1;33m.\u001b[0m\u001b[0mcalcular\u001b[0m\u001b[1;33m(\u001b[0m\u001b[0mn\u001b[0m \u001b[1;33m=\u001b[0m \u001b[1;36m100\u001b[0m\u001b[1;33m)\u001b[0m\u001b[1;33m\u001b[0m\u001b[1;33m\u001b[0m\u001b[0m\n\u001b[0m\u001b[0;32m      4\u001b[0m     \u001b[0mfunciones\u001b[0m\u001b[1;33m.\u001b[0m\u001b[0mgrafica\u001b[0m\u001b[1;33m(\u001b[0m\u001b[0mc\u001b[0m\u001b[1;33m)\u001b[0m\u001b[1;33m\u001b[0m\u001b[1;33m\u001b[0m\u001b[0m\n\u001b[0;32m      5\u001b[0m     \u001b[0md\u001b[0m \u001b[1;33m=\u001b[0m \u001b[0mfunciones\u001b[0m\u001b[1;33m.\u001b[0m\u001b[0mcalcular\u001b[0m\u001b[1;33m(\u001b[0m\u001b[0mn\u001b[0m \u001b[1;33m=\u001b[0m \u001b[1;36m1000\u001b[0m\u001b[1;33m)\u001b[0m\u001b[1;33m\u001b[0m\u001b[1;33m\u001b[0m\u001b[0m\n",
      "\u001b[1;31mAttributeError\u001b[0m: 'SimulacionDados' object has no attribute 'calcular'"
     ]
    }
   ],
   "source": [
    "if __name__==\"__main__\":\n",
    "    funciones = SimulacionDados()\n",
    "    c = funciones.calcular(n = 100)\n",
    "    funciones.grafica(c)\n",
    "    d = funciones.calcular(n = 1000)\n",
    "    funciones.grafica(d)\n",
    "    e = funciones.calcular(n = 10000)\n",
    "    funciones.grafica(e)"
   ]
  },
  {
   "cell_type": "code",
   "execution_count": null,
   "metadata": {},
   "outputs": [],
   "source": []
  },
  {
   "cell_type": "code",
   "execution_count": null,
   "metadata": {},
   "outputs": [],
   "source": []
  },
  {
   "cell_type": "code",
   "execution_count": null,
   "metadata": {},
   "outputs": [],
   "source": []
  }
 ],
 "metadata": {
  "kernelspec": {
   "display_name": "Python 3",
   "language": "python",
   "name": "python3"
  },
  "language_info": {
   "codemirror_mode": {
    "name": "ipython",
    "version": 3
   },
   "file_extension": ".py",
   "mimetype": "text/x-python",
   "name": "python",
   "nbconvert_exporter": "python",
   "pygments_lexer": "ipython3",
   "version": "3.7.4"
  }
 },
 "nbformat": 4,
 "nbformat_minor": 2
}
